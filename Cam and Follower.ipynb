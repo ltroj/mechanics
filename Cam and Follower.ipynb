{
 "cells": [
  {
   "cell_type": "markdown",
   "metadata": {},
   "source": [
    "# Setup Notebook"
   ]
  },
  {
   "cell_type": "code",
   "execution_count": 14,
   "metadata": {},
   "outputs": [],
   "source": [
    "from ipywidgets import *\n",
    "import numpy as np\n",
    "import matplotlib.pyplot as plt\n",
    "%matplotlib inline\n",
    "plt.rcParams['figure.figsize'] = [12, 8]  # Setting default figure size for plots"
   ]
  },
  {
   "cell_type": "markdown",
   "metadata": {},
   "source": [
    "# Define Input function (with parameters)"
   ]
  },
  {
   "cell_type": "code",
   "execution_count": 15,
   "metadata": {},
   "outputs": [],
   "source": [
    "def s_func(t, amplitude=1., shift=0., stretch=1.):\n",
    "    return amplitude*np.sin(stretch*t)*np.cos(2*stretch*t)+shift"
   ]
  },
  {
   "cell_type": "markdown",
   "metadata": {},
   "source": [
    "# Plotting and tweaking the output function"
   ]
  },
  {
   "cell_type": "code",
   "execution_count": 16,
   "metadata": {},
   "outputs": [],
   "source": [
    "def plot_funcs(amplitude=1., shift=0., t_max=1., n_periods=1, resolution=1000):\n",
    "    t = np.linspace(0, t_max, resolution)  # Create a time array with as many data points as specified by resolution\n",
    "    stretch = n_periods*2*np.pi/t_max  # Compute stretch parameter to match our number of periods and time frame\n",
    "    s = s_func(t, amplitude, shift, stretch)\n",
    "    v = np.diff(s, n=1)  # Get the velocity array (1st derivative of travel)\n",
    "    a = np.diff(s, n=2) # Get the acceleration array (2nd derivative of travel)\n",
    "    # Note that by calculating the n-th discrete difference using numpy.diff the resulting array will be n elements shorter than the original array.\n",
    "    \n",
    "    fig, (ax1, ax2, ax3) = plt.subplots(3, 1, sharex='col')  # Setup 3 subplots in one column with a common x-axis\n",
    "    ax3.set_xlabel('time in seconds')\n",
    "    ax1.set_ylabel('stroke in mm')\n",
    "    ax2.set_ylabel('velocity in mm/s')\n",
    "    ax3.set_ylabel('acceleration in mm/s²')\n",
    "    \n",
    "    ax1.plot(t, s, color='blue', label='s(t)')\n",
    "   \n",
    "    t = t[:-1]  # Remove last element of original time array to match dimension of velocity array\n",
    "  \n",
    "    ax2.plot(t, v, color='red', label='v(t)')\n",
    "    \n",
    "    t = t[:-1]  # Remove last element of time array to match dimension of acceleration array\n",
    "  \n",
    "    ax3.plot(t, a, color='orange', label='a(t)')\n",
    "\n",
    "    ax1.grid(b=True, which='both')\n",
    "    ax2.grid(b=True, which='both')\n",
    "    ax3.grid(b=True, which='both')\n",
    "\n",
    "    plt.show()\n",
    "    "
   ]
  },
  {
   "cell_type": "code",
   "execution_count": 17,
   "metadata": {
    "scrolled": false
   },
   "outputs": [
    {
     "data": {
      "application/vnd.jupyter.widget-view+json": {
       "model_id": "4c30eb280ee440359ab897ff394f21b4",
       "version_major": 2,
       "version_minor": 0
      },
      "text/plain": [
       "interactive(children=(FloatSlider(value=1.0, description='amplitude', min=0.001, step=1.0), IntSlider(value=0,…"
      ]
     },
     "metadata": {},
     "output_type": "display_data"
    }
   ],
   "source": [
    "interactive(plot_funcs, amplitude=(.001, 100, 1), shift=(0, 10, 1), t_max=(.001, 1, 0.1), n_periods=(1, 10, 1), resolution=fixed(1000))\n"
   ]
  },
  {
   "cell_type": "markdown",
   "metadata": {},
   "source": [
    "# Kinematic chain"
   ]
  },
  {
   "cell_type": "code",
   "execution_count": 18,
   "metadata": {},
   "outputs": [],
   "source": [
    "def r_func(basic_radius, s):\n",
    "    return basic_radius + s"
   ]
  },
  {
   "cell_type": "markdown",
   "metadata": {},
   "source": [
    "# Plotting the cam"
   ]
  },
  {
   "cell_type": "code",
   "execution_count": 19,
   "metadata": {},
   "outputs": [
    {
     "data": {
      "application/vnd.jupyter.widget-view+json": {
       "model_id": "59a4be3e46ca4a2bbe98a0cf8a3e8b88",
       "version_major": 2,
       "version_minor": 0
      },
      "text/plain": [
       "interactive(children=(FloatSlider(value=50.0, description='basic_radius', step=1.0), FloatSlider(value=1.0, de…"
      ]
     },
     "metadata": {},
     "output_type": "display_data"
    }
   ],
   "source": [
    "def plot_cam(basic_radius, t_max, amplitude, shift, n_periods, resolution):\n",
    "    t = np.linspace(0, t_max, resolution)\n",
    "    stretch = n_periods*2*np.pi/t_max\n",
    "    s = s_func(t, amplitude, shift, stretch)\n",
    "    theta = np.linspace(0, 2*np.pi, resolution)\n",
    "    r = r_func(basic_radius, s)\n",
    "    \n",
    "    fig, ax = plt.subplots(subplot_kw={'projection': 'polar'})\n",
    "    ax.plot(theta, r)\n",
    "    ax.fill(theta, r, 'b', alpha=0.1)\n",
    "    ax.grid(True)\n",
    "    ax.set_title(\"Cam plot\", va='bottom')\n",
    "    plt.show()\n",
    "    \n",
    "    plot_funcs(amplitude, shift, t_max, n_periods, resolution)\n",
    "    \n",
    "interactive(plot_cam, basic_radius=(0., 100., 1.), t_max=(0, 3, .1), amplitude=(0, 10, 1), shift=(0, 10, 1), n_periods=(1, 10, 1), resolution=fixed(1000))"
   ]
  },
  {
   "cell_type": "markdown",
   "metadata": {},
   "source": [
    "# Exporting the cam profile"
   ]
  },
  {
   "cell_type": "code",
   "execution_count": 20,
   "metadata": {},
   "outputs": [],
   "source": [
    "# Finalize cam and function parameters\n",
    "basic_radius = 50.\n",
    "t_max = 1.\n",
    "amplitude = 10.\n",
    "shift = 0.\n",
    "n_periods = 2\n",
    "\n",
    "# Too high a resolution can lead to problems when importing into the CAD application,\n",
    "# too low a resolution results in a loss of contour accuracy.\n",
    "resolution = 100\n",
    "\n",
    "# Get resultant arrays\n",
    "t = np.linspace(0, t_max, resolution)\n",
    "stretch = n_periods*2*np.pi/t_max\n",
    "s = s_func(t, amplitude, shift, stretch)\n",
    "theta = np.linspace(0, 2*np.pi, resolution)\n",
    "r = r_func(basic_radius, s)\n",
    "\n",
    "# Write coordinates to text file\n",
    "with open('cam_profile.pts', 'w') as f:\n",
    "    \n",
    "    # Convert Polar to Cartesian coordinates\n",
    "    x = r*np.cos(theta)\n",
    "    y = r*np.sin(theta)\n",
    "    \n",
    "    for x, y in zip(x, y):\n",
    "        z = 0.  #\n",
    "        coord_str = str(x) + ' ' + str(y) + ' ' + str(z) + '\\n'\n",
    "        f.write(coord_str)"
   ]
  }
 ],
 "metadata": {
  "kernelspec": {
   "display_name": "Python 3",
   "language": "python",
   "name": "python3"
  },
  "language_info": {
   "codemirror_mode": {
    "name": "ipython",
    "version": 3
   },
   "file_extension": ".py",
   "mimetype": "text/x-python",
   "name": "python",
   "nbconvert_exporter": "python",
   "pygments_lexer": "ipython3",
   "version": "3.7.8"
  }
 },
 "nbformat": 4,
 "nbformat_minor": 4
}
